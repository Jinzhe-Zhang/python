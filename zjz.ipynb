{
 "cells": [
  {
   "cell_type": "code",
   "execution_count": 12,
   "metadata": {},
   "outputs": [
    {
     "name": "stdout",
     "output_type": "stream",
     "text": [
      "35196\n"
     ]
    }
   ],
   "source": [
    "import pandas as pd\n",
    "import pickle\n",
    "pkl_file = open(r'D:\\QQ\\294103703\\FileRecv\\d30c14b3-4039-3ad8-9cc3-025485863b7c-61939.pickle', 'rb')\n",
    "data1=pd.read_pickle(pkl_file)  \n",
    "print (data1[data1['type']=='WiFi']['type'].count())"
   ]
  },
  {
   "cell_type": "code",
   "execution_count": 11,
   "metadata": {},
   "outputs": [
    {
     "data": {
      "text/plain": [
       "35196"
      ]
     },
     "execution_count": 11,
     "metadata": {},
     "output_type": "execute_result"
    }
   ],
   "source": []
  },
  {
   "cell_type": "code",
   "execution_count": 2,
   "metadata": {},
   "outputs": [],
   "source": [
    "import requests \n",
    "import re\n",
    "from bs4 import  BeautifulSoup\n",
    "import xlwt\n",
    "headers={\n",
    "'User-Agent':'Mozilla/5.0 (Windows NT 10.0; WOW64) AppleWebKit/537.36 (KHTML, like Gecko) Chrome/62.0.3202.75 Safari/537.36'\n",
    "}\n",
    "def get_one_page(url):\n",
    "    try:\n",
    "        response = requests.get(url,headers = headers)\n",
    "        response.encoding = 'gbk'\n",
    "        if response.status_code == 200:\n",
    "            return response.text\n",
    "        return None\n",
    "    except RequestException:\n",
    "        return None\n",
    "def get_html():\n",
    "    k=1 #参数k代表存储到excel的行数\n",
    "    wb = xlwt.Workbook()  # 创建工作簿\n",
    "    f = wb.add_sheet(\"招聘信息\")  # 创建工作表\n",
    "    raw = ['职位', '公司', '工作地点', '薪水', '发布日期','职位信息','标签']\n",
    "    for i in range(len(raw)):\n",
    "        f.write(0, i, raw[i])\n",
    "    url='https://search.51job.com/list/000000,000000,0100%252C2500%252C2600%252C2700,01%252C38%252C32%252C40,9,99,%2B,2,{}.html?lang=c&stype=1&postchannel=0000&workyear=99&cotype=99&degreefrom=99&jobterm=99&companysize=99&lonlat=0%2C0&radius=-1&ord_field=0&confirmdate=9&fromType=&dibiaoid=0&address=&line=&specialarea=00&from=&welfare='\n",
    "    try:\n",
    "        for page in range(181,189):#解析前20页\n",
    "            res = get_one_page(url.format(page))\n",
    "            soup = BeautifulSoup(res, 'html.parser')\n",
    "            t1 = soup.select('.t1 span a')\n",
    "            t2 = soup.select('.t2 a')\n",
    "            t3 = soup.select('.t3')\n",
    "            t4 = soup.select('.t4')\n",
    "            t5 = soup.select('.t5')\n",
    "            for i in range(2):\n",
    "                job = t1[i].get('title')#获取职位\n",
    "#                 print (job)\n",
    "                href = t1[i].get('href')#获取链接\n",
    "                company = t2[i].get('title')#获取公司名\n",
    "                location = t3[i+1].text#获取工作地点\n",
    "                salary = t4[i+1].text#获取薪水\n",
    "                date = t5[i+1].text#获取发布日期\n",
    "                link = BeautifulSoup(get_one_page(href), 'html.parser')\n",
    "                message=link.find('div',class_=re.compile('bmsg job_msg inbox'))\n",
    "                if (message):\n",
    "                    message=message.text\n",
    "                    labellist=link.find('div',class_=re.compile('t1')).find_all('span')\n",
    "                    labelist=[]\n",
    "                    for label in labellist:\n",
    "                        label=label.text\n",
    "                        labelist.append(label)\n",
    "#                     print (labelist)\n",
    "                else:\n",
    "                    message=\"\"\n",
    "                f.write(k,0,job)\n",
    "                f.write(k,1,company)\n",
    "                f.write(k,2,location)\n",
    "                f.write(k,3,salary)\n",
    "                f.write(k,4,date)\n",
    "                f.write(k,5,message)\n",
    "                f.write(k,6,','.join(labelist))\n",
    "                k+=1#每存储一行 k值加1\n",
    "        wb.save('D:/招聘201.xls')#写完后掉用save方法进行保存\n",
    "        \n",
    "    except TimeoutError:\n",
    "        print(\"请求失败\")\n",
    "        return  None\n",
    "if __name__=='__main__':\n",
    "    get_html()\n"
   ]
  },
  {
   "cell_type": "code",
   "execution_count": null,
   "metadata": {},
   "outputs": [],
   "source": [
    "import pandas as pd\n",
    "import numpy as np\n",
    "df=pd.read_csv('招聘1-9000.csv')\n",
    "df"
   ]
  },
  {
   "cell_type": "markdown",
   "metadata": {},
   "source": [
    "a,b=b,a#===>实质上是创建临时变量c,d, 由“...=b,a” c=b,d=a,  之后由“a,b=...” 运行a=c,b=d\n",
    "于是第二次交换的过程是这样的：\n",
    "创建临时变量c,d,c=a[a.index('b')]='b'，d=a[a.index('a')]='a'，此时数组没变,['b','a','c','d','e']\n",
    "运行a[a.index('b')]=c,得到a[0]='a',此时a[]=['a','a','c','d','e']\n",
    "运行a[a.index('a')]=d,得到a[0]='b',此时a[]=['b','a','c','d','e']"
   ]
  }
 ],
 "metadata": {
  "kernelspec": {
   "display_name": "Python 3",
   "language": "python",
   "name": "python3"
  },
  "language_info": {
   "codemirror_mode": {
    "name": "ipython",
    "version": 3
   },
   "file_extension": ".py",
   "mimetype": "text/x-python",
   "name": "python",
   "nbconvert_exporter": "python",
   "pygments_lexer": "ipython3",
   "version": "3.6.5"
  }
 },
 "nbformat": 4,
 "nbformat_minor": 2
}
