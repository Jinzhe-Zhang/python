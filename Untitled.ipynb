{
 "cells": [
  {
   "cell_type": "code",
   "execution_count": 10,
   "metadata": {},
   "outputs": [
    {
     "name": "stdout",
     "output_type": "stream",
     "text": [
      "10\n",
      "8\n",
      "6\n"
     ]
    }
   ],
   "source": [
    "for x in range(10,1,-2):#range表示数字区间\n",
    "    if x<6:\n",
    "        break\n",
    "    print (x)"
   ]
  },
  {
   "cell_type": "code",
   "execution_count": 11,
   "metadata": {},
   "outputs": [],
   "source": [
    "#可以使用切片和索引\n",
    "str = \"大连天气真好\""
   ]
  },
  {
   "cell_type": "code",
   "execution_count": 12,
   "metadata": {},
   "outputs": [
    {
     "data": {
      "text/plain": [
       "'大连天气真好'"
      ]
     },
     "execution_count": 12,
     "metadata": {},
     "output_type": "execute_result"
    }
   ],
   "source": [
    "str\n"
   ]
  },
  {
   "cell_type": "code",
   "execution_count": 16,
   "metadata": {},
   "outputs": [
    {
     "name": "stdout",
     "output_type": "stream",
     "text": [
      "6\n"
     ]
    },
    {
     "ename": "TypeError",
     "evalue": "'str' object does not support item assignment",
     "output_type": "error",
     "traceback": [
      "\u001b[1;31m---------------------------------------------------------------------------\u001b[0m",
      "\u001b[1;31mTypeError\u001b[0m                                 Traceback (most recent call last)",
      "\u001b[1;32m<ipython-input-16-745be8f945b9>\u001b[0m in \u001b[0;36m<module>\u001b[1;34m()\u001b[0m\n\u001b[0;32m      1\u001b[0m \u001b[0mstr1\u001b[0m \u001b[1;33m=\u001b[0m \u001b[1;34m\"大连天气真好\"\u001b[0m\u001b[1;33m\u001b[0m\u001b[0m\n\u001b[0;32m      2\u001b[0m \u001b[0mprint\u001b[0m \u001b[1;33m(\u001b[0m\u001b[0mlen\u001b[0m\u001b[1;33m(\u001b[0m\u001b[0mstr1\u001b[0m\u001b[1;33m)\u001b[0m\u001b[1;33m)\u001b[0m\u001b[1;33m\u001b[0m\u001b[0m\n\u001b[1;32m----> 3\u001b[1;33m \u001b[0mstr1\u001b[0m\u001b[1;33m[\u001b[0m\u001b[1;36m1\u001b[0m\u001b[1;33m]\u001b[0m\u001b[1;33m=\u001b[0m\u001b[1;34m'大'\u001b[0m\u001b[1;33m\u001b[0m\u001b[0m\n\u001b[0m",
      "\u001b[1;31mTypeError\u001b[0m: 'str' object does not support item assignment"
     ]
    }
   ],
   "source": [
    "str1 = \"大连天气真好\"\n",
    "print (len(str1))\n",
    "str1[1]='大'"
   ]
  },
  {
   "cell_type": "code",
   "execution_count": 17,
   "metadata": {},
   "outputs": [
    {
     "data": {
      "text/plain": [
       "'大连天'"
      ]
     },
     "execution_count": 17,
     "metadata": {},
     "output_type": "execute_result"
    }
   ],
   "source": [
    "str1[0:3]"
   ]
  },
  {
   "cell_type": "code",
   "execution_count": 18,
   "metadata": {},
   "outputs": [
    {
     "data": {
      "text/plain": [
       "'大连天气真'"
      ]
     },
     "execution_count": 18,
     "metadata": {},
     "output_type": "execute_result"
    }
   ],
   "source": [
    "str1[:5]"
   ]
  },
  {
   "cell_type": "code",
   "execution_count": 21,
   "metadata": {},
   "outputs": [
    {
     "name": "stdout",
     "output_type": "stream",
     "text": [
      "大连天气真好\n"
     ]
    }
   ],
   "source": [
    "str2=str1\n",
    "print (str2)"
   ]
  },
  {
   "cell_type": "code",
   "execution_count": 22,
   "metadata": {},
   "outputs": [
    {
     "name": "stdout",
     "output_type": "stream",
     "text": [
      "大连天气真好\n"
     ]
    }
   ],
   "source": [
    "str1=\"123\"\n",
    "print (str2)"
   ]
  },
  {
   "cell_type": "code",
   "execution_count": 35,
   "metadata": {},
   "outputs": [
    {
     "name": "stdout",
     "output_type": "stream",
     "text": [
      "['username=byy', 'password=123']\n",
      "username=byy,password=123\n"
     ]
    }
   ],
   "source": [
    "words = \"username=byy&password=123\"\n",
    "t=words.split(\"&\")\n",
    "print (t)\n",
    "str1=\"I am {},my age is {}\"\n",
    "a=str1.format('zjz',18)\n",
    "a=\",\".join(t)\n",
    "print (a)"
   ]
  },
  {
   "cell_type": "markdown",
   "metadata": {},
   "source": [
    "1.返回列表中非唯一元素的列表\n",
    "比如[1,2,3,1,3]--->[1,3,1,3]\n",
    "2.求出[100~1000)范围内的水仙花数\n",
    "3.输入一个5位数字，判断是否是回文数字"
   ]
  },
  {
   "cell_type": "code",
   "execution_count": 42,
   "metadata": {},
   "outputs": [
    {
     "data": {
      "text/plain": [
       "[1, 3, 1, 3]"
      ]
     },
     "execution_count": 42,
     "metadata": {},
     "output_type": "execute_result"
    }
   ],
   "source": [
    "t=[1,2,3,1,3]\n",
    "for i in t:\n",
    "    if t.count(i)<2:\n",
    "        t.remove(i)\n",
    "t"
   ]
  },
  {
   "cell_type": "code",
   "execution_count": 51,
   "metadata": {},
   "outputs": [
    {
     "name": "stdout",
     "output_type": "stream",
     "text": [
      "153\n",
      "370\n",
      "371\n",
      "407\n"
     ]
    }
   ],
   "source": [
    "for i in range(100,1000):\n",
    "    if (i%10)*(i%10)*(i%10)+(i//10%10)*(i//10%10)*(i//10%10)+(i//100)*(i//100)*(i//100)==i:\n",
    "        print (i)"
   ]
  },
  {
   "cell_type": "code",
   "execution_count": 66,
   "metadata": {},
   "outputs": [
    {
     "name": "stdout",
     "output_type": "stream",
     "text": [
      "请输入：12321\n",
      "yes\n"
     ]
    }
   ],
   "source": [
    "str = input(\"请输入：\");\n",
    "if str.isdigit():\n",
    "    i=int(str)\n",
    "if (i and i>=10000 and i<100000 and str[0]==str[4] and str[1]==str[3]):\n",
    "    print (\"yes\")\n",
    "else:\n",
    "    print(\"no\")"
   ]
  },
  {
   "cell_type": "code",
   "execution_count": 75,
   "metadata": {},
   "outputs": [
    {
     "name": "stdout",
     "output_type": "stream",
     "text": [
      "lw\n"
     ]
    }
   ],
   "source": [
    "#字典 java Map\n",
    "d = {\"key\":\"lw\",\"key2\":\"value\"}\n",
    "print (d[\"key\"])\n",
    "d={\n",
    "    \"key1\":1,\n",
    "    \"key2\":[1,2,3],\n",
    "    \"key3\":(1,2,3),\n",
    "    \"key4\":{\n",
    "        \"key5\":\"value\"\n",
    "    }\n",
    "}"
   ]
  },
  {
   "cell_type": "markdown",
   "metadata": {},
   "source": [
    "字典怎么遍历\n",
    "字典不是线性表，是hash表，存储到字典中的值是没有固定顺序的，也就不能通过索引或者切片访问元素，只能通过key去访问\n",
    "可以通过方法获取字典中的keys"
   ]
  },
  {
   "cell_type": "code",
   "execution_count": 85,
   "metadata": {
    "scrolled": true
   },
   "outputs": [
    {
     "name": "stdout",
     "output_type": "stream",
     "text": [
      "key is  key1\n",
      "value is  1\n",
      "key is  key2\n",
      "value is  [1, 2, 3]\n",
      "key is  key3\n",
      "value is  (1, 2, 3)\n",
      "key is  key4\n",
      "value is  {'key5': 'value'}\n"
     ]
    }
   ],
   "source": [
    "for i,j in d.items():\n",
    "    print (\"key is \",i)\n",
    "    print (\"value is \",j)"
   ]
  },
  {
   "cell_type": "markdown",
   "metadata": {},
   "source": [
    "函数：函数在python中也是一个对象，"
   ]
  },
  {
   "cell_type": "markdown",
   "metadata": {},
   "source": [
    "在python中定义函数"
   ]
  },
  {
   "cell_type": "code",
   "execution_count": 103,
   "metadata": {
    "scrolled": true
   },
   "outputs": [
    {
     "name": "stdout",
     "output_type": "stream",
     "text": [
      "2\n",
      "None\n",
      "3\n",
      "1\n",
      "4\n",
      "(1, 2)\n",
      "6 4\n",
      "1 2\n",
      "1 1\n",
      "1 (123123, 2, 2, 4, 3)\n",
      "1 {'y': 1, 'k': 2}\n"
     ]
    }
   ],
   "source": [
    "def test( ):\n",
    "    print(1)\n",
    "def test():\n",
    "    print(2)\n",
    "print(test())#每一个函数都有默认的返回值None\n",
    "def test3():\n",
    "    print (3)\n",
    "    return 1\n",
    "print (test3())\n",
    "def test4():\n",
    "    print (4)\n",
    "    return 1,2\n",
    "i=test4()\n",
    "print (i)\n",
    "\n",
    "#函数的参数\n",
    "def test6(x,y):\n",
    "    print (6,x+y)\n",
    "test6(2,2)\n",
    "\n",
    "def test7(x,y):\n",
    "    print(x,y)\n",
    "test7(y=2,x=1)\n",
    "test7(1,y=1)#索引参数赋值一定在位置参数之后\n",
    "#test7(y=2,1)#索引参数赋值一定在位置参数之后\n",
    "def test8(x,*args):#*+args表示不定长参数列表，args是一个元组\n",
    "    print(x,args)\n",
    "test8(1,123123,2,2,4,3)\n",
    "def test9(x,**kwargs):#表示不定长参数列表，kwargs表示字典\n",
    "    print (x,kwargs)\n",
    "test9(1,y=1,k=2)"
   ]
  },
  {
   "cell_type": "code",
   "execution_count": 106,
   "metadata": {},
   "outputs": [
    {
     "name": "stdout",
     "output_type": "stream",
     "text": [
      "test10\n",
      "test11\n"
     ]
    }
   ],
   "source": [
    "def test10():\n",
    "    print (\"test10\")\n",
    "    def test11():\n",
    "        print(\"test11\")\n",
    "    return test11\n",
    "test10()()"
   ]
  },
  {
   "cell_type": "code",
   "execution_count": 110,
   "metadata": {},
   "outputs": [
    {
     "data": {
      "text/plain": [
       "3"
      ]
     },
     "execution_count": 110,
     "metadata": {},
     "output_type": "execute_result"
    }
   ],
   "source": [
    "a=lambda x:2*x+1\n",
    "a(1)"
   ]
  },
  {
   "cell_type": "code",
   "execution_count": 116,
   "metadata": {},
   "outputs": [
    {
     "data": {
      "text/plain": [
       "[2, 3, 4, 5, 6]"
      ]
     },
     "execution_count": 116,
     "metadata": {},
     "output_type": "execute_result"
    }
   ],
   "source": [
    "def map_test(l,func):\n",
    "    res=[]\n",
    "    for i in l:\n",
    "        res.append(func(i))\n",
    "    return res\n",
    "def add1(i):\n",
    "    return i+1\n",
    "l=[1,2,3,4,5]\n",
    "map_test(l,lambda x:x+1)\n",
    "#把l每个值加1"
   ]
  },
  {
   "cell_type": "code",
   "execution_count": 147,
   "metadata": {},
   "outputs": [
    {
     "name": "stdout",
     "output_type": "stream",
     "text": [
      "['zhangsan']\n",
      "['lw']\n",
      "['lw', 'qq', 'sk']\n"
     ]
    },
    {
     "ename": "NameError",
     "evalue": "name 'w' is not defined",
     "output_type": "error",
     "traceback": [
      "\u001b[1;31m---------------------------------------------------------------------------\u001b[0m",
      "\u001b[1;31mNameError\u001b[0m                                 Traceback (most recent call last)",
      "\u001b[1;32m<ipython-input-147-36635792199c>\u001b[0m in \u001b[0;36m<module>\u001b[1;34m()\u001b[0m\n\u001b[0;32m     10\u001b[0m \u001b[0mprint\u001b[0m \u001b[1;33m(\u001b[0m\u001b[0mfilter_test\u001b[0m\u001b[1;33m(\u001b[0m\u001b[0mnames\u001b[0m\u001b[1;33m,\u001b[0m\u001b[1;32mlambda\u001b[0m \u001b[0mx\u001b[0m\u001b[1;33m:\u001b[0m\u001b[0mx\u001b[0m\u001b[1;33m.\u001b[0m\u001b[0mstartswith\u001b[0m\u001b[1;33m(\u001b[0m\u001b[1;34m'l'\u001b[0m\u001b[1;33m)\u001b[0m\u001b[1;33m)\u001b[0m\u001b[1;33m)\u001b[0m\u001b[1;33m;\u001b[0m\u001b[1;33m\u001b[0m\u001b[0m\n\u001b[0;32m     11\u001b[0m \u001b[0mprint\u001b[0m \u001b[1;33m(\u001b[0m\u001b[0mfilter_test\u001b[0m\u001b[1;33m(\u001b[0m\u001b[0mnames\u001b[0m\u001b[1;33m,\u001b[0m\u001b[1;32mlambda\u001b[0m \u001b[0mx\u001b[0m\u001b[1;33m:\u001b[0m\u001b[0mlen\u001b[0m\u001b[1;33m(\u001b[0m\u001b[0mx\u001b[0m\u001b[1;33m)\u001b[0m\u001b[1;33m==\u001b[0m\u001b[1;36m2\u001b[0m\u001b[1;33m)\u001b[0m\u001b[1;33m)\u001b[0m\u001b[1;33m\u001b[0m\u001b[0m\n\u001b[1;32m---> 12\u001b[1;33m \u001b[0mprint\u001b[0m \u001b[1;33m(\u001b[0m\u001b[0mw\u001b[0m\u001b[1;33m)\u001b[0m\u001b[1;33m\u001b[0m\u001b[0m\n\u001b[0m",
      "\u001b[1;31mNameError\u001b[0m: name 'w' is not defined"
     ]
    }
   ],
   "source": [
    "#找出名称长度大于4的名字\n",
    "names=['lw','qq','zhangsan','abc','sk']\n",
    "def filter_test(name,func):\n",
    "    res=[]\n",
    "    for i in name:\n",
    "        if func(i):\n",
    "            res.append(i)\n",
    "    return res\n",
    "print (filter_test(names,lambda x:len(x)>5))\n",
    "print (filter_test(names,lambda x:x.startswith('l')));\n",
    "print (filter_test(names,lambda x:len(x)==2))\n",
    "print (w)"
   ]
  },
  {
   "cell_type": "code",
   "execution_count": 149,
   "metadata": {},
   "outputs": [
    {
     "data": {
      "text/plain": [
       "[{'name': 'lw1', 'age': 12000},\n",
       " {'name': 'lw2', 'age': 11000},\n",
       " {'name': 'lw4', 'age': 10050},\n",
       " {'name': 'lw3', 'age': 10040},\n",
       " {'name': 'lw', 'age': 10000}]"
      ]
     },
     "execution_count": 149,
     "metadata": {},
     "output_type": "execute_result"
    }
   ],
   "source": [
    "people = [\n",
    "    {'name':'lw','age':10000},\n",
    "    {'name':'lw1','age':12000},\n",
    "    {'name':'lw2','age':11000},\n",
    "    {'name':'lw3','age':10040},\n",
    "    {'name':'lw4','age':10050}\n",
    "]\n",
    "sorted(people,key=lambda dic:dic['age'],reverse=True)"
   ]
  }
 ],
 "metadata": {
  "kernelspec": {
   "display_name": "Python 3",
   "language": "python",
   "name": "python3"
  },
  "language_info": {
   "codemirror_mode": {
    "name": "ipython",
    "version": 3
   },
   "file_extension": ".py",
   "mimetype": "text/x-python",
   "name": "python",
   "nbconvert_exporter": "python",
   "pygments_lexer": "ipython3",
   "version": "3.6.5"
  }
 },
 "nbformat": 4,
 "nbformat_minor": 2
}
