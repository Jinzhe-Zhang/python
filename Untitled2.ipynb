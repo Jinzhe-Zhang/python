{
 "cells": [
  {
   "cell_type": "code",
   "execution_count": 3,
   "metadata": {},
   "outputs": [],
   "source": [
    "import pandas as pd"
   ]
  },
  {
   "cell_type": "code",
   "execution_count": 7,
   "metadata": {},
   "outputs": [
    {
     "name": "stdout",
     "output_type": "stream",
     "text": [
      "aa    a\n",
      "bb    b\n",
      "cc    c\n",
      "dtype: object\n"
     ]
    }
   ],
   "source": [
    "#https://www.kaggle.com/datasets\n",
    "#https://github.com/\n",
    "#Series,DataFrame\n",
    "#Series --->DataFrame\n",
    "#Series 就是一个具有索引的数组\n",
    "s = pd.Series(['a','b','c'],index=['aa','bb','cc'])\n",
    "print (s)"
   ]
  },
  {
   "cell_type": "markdown",
   "metadata": {},
   "source": [
    "一个是值，一个是索引\n",
    "#s.index\n",
    "s.values"
   ]
  },
  {
   "cell_type": "code",
   "execution_count": 9,
   "metadata": {},
   "outputs": [
    {
     "data": {
      "text/plain": [
       "aa    a\n",
       "bb    1\n",
       "cc    c\n",
       "dtype: object"
      ]
     },
     "execution_count": 9,
     "metadata": {},
     "output_type": "execute_result"
    }
   ],
   "source": [
    "s = pd.Series(['a','b','c'],index=['aa','bb','cc'])\n",
    "s['bb']=1\n",
    "s"
   ]
  },
  {
   "cell_type": "code",
   "execution_count": null,
   "metadata": {},
   "outputs": [],
   "source": [
    "#s.index[0]=\"bbbbb\"   错误，索引是只读的"
   ]
  },
  {
   "cell_type": "markdown",
   "metadata": {},
   "source": [
    "Series一个常见的用法，就是布尔索引的使用"
   ]
  },
  {
   "cell_type": "code",
   "execution_count": 12,
   "metadata": {},
   "outputs": [
    {
     "data": {
      "text/plain": [
       "a    0\n",
       "b    1\n",
       "c    2\n",
       "d    3\n",
       "dtype: int32"
      ]
     },
     "execution_count": 12,
     "metadata": {},
     "output_type": "execute_result"
    }
   ],
   "source": [
    "import numpy as np\n",
    "s=pd.Series(np.arange(4),index=['a','b','c','d'])\n",
    "s"
   ]
  },
  {
   "cell_type": "code",
   "execution_count": null,
   "metadata": {},
   "outputs": [],
   "source": [
    "s[s>1]#Series也支持布尔索引的操作"
   ]
  },
  {
   "cell_type": "code",
   "execution_count": 14,
   "metadata": {},
   "outputs": [
    {
     "data": {
      "text/plain": [
       "北京    2000\n",
       "上海    2300\n",
       "广州    1000\n",
       "深圳    1600\n",
       "dtype: int64"
      ]
     },
     "execution_count": 14,
     "metadata": {},
     "output_type": "execute_result"
    }
   ],
   "source": [
    "data={\"北京\":2000,'上海':2300,'广州':1000,'深圳':1600}\n",
    "s=pd.Series(data)\n",
    "print (s)\n"
   ]
  },
  {
   "cell_type": "code",
   "execution_count": 15,
   "metadata": {},
   "outputs": [
    {
     "data": {
      "text/plain": [
       "北京    1000.0\n",
       "上海    1150.0\n",
       "广州     500.0\n",
       "深圳     800.0\n",
       "dtype: float64"
      ]
     },
     "execution_count": 15,
     "metadata": {},
     "output_type": "execute_result"
    }
   ],
   "source": [
    "s-s/2"
   ]
  },
  {
   "cell_type": "code",
   "execution_count": 25,
   "metadata": {},
   "outputs": [
    {
     "name": "stdout",
     "output_type": "stream",
     "text": [
      "上海    4600.0\n",
      "北京    4000.0\n",
      "广州    2000.0\n",
      "dtype: float64\n"
     ]
    },
    {
     "data": {
      "text/plain": [
       "上海    4600.0\n",
       "北京    4000.0\n",
       "广州    2000.0\n",
       "dtype: float64"
      ]
     },
     "execution_count": 25,
     "metadata": {},
     "output_type": "execute_result"
    }
   ],
   "source": [
    "data={\"北京\":2000,'上海':2300,'广州':1000,'大连':1600}\n",
    "s2=pd.Series(data)\n",
    "temp = s+s2\n",
    "print (temp[- pd.isnull(temp)])\n",
    "temp [pd.notnull(temp)]"
   ]
  }
 ],
 "metadata": {
  "kernelspec": {
   "display_name": "Python 3",
   "language": "python",
   "name": "python3"
  },
  "language_info": {
   "codemirror_mode": {
    "name": "ipython",
    "version": 3
   },
   "file_extension": ".py",
   "mimetype": "text/x-python",
   "name": "python",
   "nbconvert_exporter": "python",
   "pygments_lexer": "ipython3",
   "version": "3.6.5"
  }
 },
 "nbformat": 4,
 "nbformat_minor": 2
}
