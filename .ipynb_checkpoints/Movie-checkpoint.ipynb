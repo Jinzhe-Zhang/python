{
 "cells": [
  {
   "cell_type": "code",
   "execution_count": 42,
   "metadata": {},
   "outputs": [],
   "source": [
    "import csv\n",
    "import requests\n",
    "import json\n",
    "headers = {'User-Agent':'Mozilla/5.0 (Windows NT 10.0; WOW64) AppleWebKit/537.36 (KHTML, like Gecko) Chrome/55.0.2883.87 Safari/537.36'}\n",
    "def get_one_page(url):\n",
    "    try:\n",
    "        response = requests.get(url,headers = headers)\n",
    "        if response.status_code == 200:\n",
    "            return response.text\n",
    "        return None\n",
    "    except RequestException:\n",
    "        return None\n",
    "text=json.loads(get_one_page(\"https://movie.douban.com/j/search_subjects?type=movie&tag=%E7%83%AD%E9%97%A8&sort=recommend&page_limit=4000\"))['subjects']\n",
    "text=text[:3]"
   ]
  },
  {
   "cell_type": "code",
   "execution_count": 39,
   "metadata": {},
   "outputs": [],
   "source": [
    "#python2可以用file替代open\n",
    "with open(\"test.csv\",\"w\",newline='') as csvfile: \n",
    "    writer = csv.writer(csvfile)\n",
    "    writer.writerow(text[0].keys())\n",
    "    for i in text:\n",
    "        writer.writerow(i.values())\n",
    "    #写入多行用writerows"
   ]
  },
  {
   "cell_type": "code",
   "execution_count": 51,
   "metadata": {},
   "outputs": [],
   "source": [
    "#首先，安装docx 包，pip install python-docx\n",
    "from docx import Document\n",
    "from docx.shared import Pt\n",
    "import re\n",
    "from bs4 import BeautifulSoup\n",
    "import urllib\n",
    "document = Document('201692117 张金哲 python第三次作业.docx')\n",
    "for i in text:\n",
    "    urllib.request.urlretrieve(i['cover'],'1.jpg')\n",
    "    p=document.add_paragraph(i['title'])\n",
    "    p.bold=True\n",
    "    p.size=Pt(80)\n",
    "    p = document.add_paragraph('得分：')\n",
    "    p.add_run(i['rate']).italic=True\n",
    "    p.add_run(\"分\")\n",
    "    p = document.add_paragraph('详情请见：')\n",
    "    p.add_run(i['url']).italic=True\n",
    "    document.add_picture('1.jpg', width=Pt(150)) #插入图片\n",
    "    document.add_paragraph(BeautifulSoup(get_one_page(i['url']),'html.parser').find('div',id=re.compile('info')).text+\"\\n\\n\\n\")\n",
    "\n",
    "# document.add_heading('Heading, level 1', level=1)\n",
    "# document.add_paragraph('Intense quote', style='IntenseQuote')\n",
    "\n",
    "# document.add_paragraph(\n",
    "#     'first item in unordered list', style='ListBullet'\n",
    "# )\n",
    "# document.add_paragraph(\n",
    "#     'first item in ordered list', style='ListNumber'\n",
    "# )\n",
    "table = document.add_table(rows=len(text)+1, cols=len(text[0])) #插入表格\n",
    "for ii,i in enumerate(text[0].keys()):\n",
    "    table.rows[0].cells[ii].text=i\n",
    "for ii,i in enumerate(text):\n",
    "    for jj,j in enumerate(i.values()):\n",
    "        table.rows[ii+1].cells[jj].text=str(j)\n",
    "\n",
    "document.add_page_break()\n",
    "\n",
    "document.save('demo.docx')  #保存文档"
   ]
  }
 ],
 "metadata": {
  "kernelspec": {
   "display_name": "Python 3",
   "language": "python",
   "name": "python3"
  },
  "language_info": {
   "codemirror_mode": {
    "name": "ipython",
    "version": 3
   },
   "file_extension": ".py",
   "mimetype": "text/x-python",
   "name": "python",
   "nbconvert_exporter": "python",
   "pygments_lexer": "ipython3",
   "version": "3.6.5"
  }
 },
 "nbformat": 4,
 "nbformat_minor": 2
}
