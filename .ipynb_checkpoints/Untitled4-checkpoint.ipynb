{
 "cells": [
  {
   "cell_type": "markdown",
   "metadata": {},
   "source": [
    "空语句\n",
    "pass语句：表示一个空的代码块，用来做占位符"
   ]
  },
  {
   "cell_type": "code",
   "execution_count": null,
   "metadata": {},
   "outputs": [],
   "source": [
    "for i in range(5):\n",
    "    "
   ]
  },
  {
   "cell_type": "code",
   "execution_count": null,
   "metadata": {},
   "outputs": [],
   "source": [
    "#If else:\n",
    "habbies = \"\"\n",
    "for i in range(1,3+1):\n",
    "    s=input(\"请输入爱好之一(最多三次，按Q结束)\")"
   ]
  },
  {
   "cell_type": "code",
   "execution_count": 4,
   "metadata": {},
   "outputs": [
    {
     "name": "stdout",
     "output_type": "stream",
     "text": [
      "注册中，输入用户名可以\n",
      "注册中，输入密码是你\n",
      "请输入账号可以\n",
      "请输入密码是他\n",
      "账号与密码不匹配\n",
      "请输入账号可以\n",
      "请输入密码是她\n",
      "账号与密码不匹配\n",
      "请输入账号可以\n",
      "请输入密码是我\n",
      "对不起，你输入的错误数量已超过三次\n"
     ]
    }
   ],
   "source": [
    "#用户登录，三次机会\n",
    "a=input(\"注册中，输入用户名\")\n",
    "b=input(\"注册中，输入密码\")\n",
    "for i in range(3):\n",
    "    user = input(\"请输入账号\")\n",
    "    passwd = input(\"请输入密码\")\n",
    "    if user == a and passwd == b:\n",
    "        print (\"登录成功，欢迎\",a,\"登录\")\n",
    "        break\n",
    "    elif (i==2):\n",
    "        print ('对不起，你输入的错误数量已超过三次')\n",
    "    else: \n",
    "        print ('账号与密码不匹配')"
   ]
  },
  {
   "cell_type": "code",
   "execution_count": null,
   "metadata": {},
   "outputs": [],
   "source": [
    "import random\n",
    "for i in range(1,100000):\n",
    "    a = random.randint(1,11)\n",
    "    print(a)"
   ]
  }
 ],
 "metadata": {
  "kernelspec": {
   "display_name": "Python 3",
   "language": "python",
   "name": "python3"
  },
  "language_info": {
   "codemirror_mode": {
    "name": "ipython",
    "version": 3
   },
   "file_extension": ".py",
   "mimetype": "text/x-python",
   "name": "python",
   "nbconvert_exporter": "python",
   "pygments_lexer": "ipython3",
   "version": "3.6.5"
  }
 },
 "nbformat": 4,
 "nbformat_minor": 2
}
