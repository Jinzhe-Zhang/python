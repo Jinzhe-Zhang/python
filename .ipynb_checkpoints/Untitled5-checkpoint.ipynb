{
 "cells": [
  {
   "cell_type": "code",
   "execution_count": 43,
   "metadata": {},
   "outputs": [],
   "source": [
    "# 数据分析 Pandas \n",
    "import pandas as pd\n",
    "import numpy as np"
   ]
  },
  {
   "cell_type": "code",
   "execution_count": 9,
   "metadata": {},
   "outputs": [
    {
     "name": "stdout",
     "output_type": "stream",
     "text": [
      "aa    a\n",
      "bb    b\n",
      "cc    c\n",
      "dtype: object\n",
      "aa\n"
     ]
    }
   ],
   "source": [
    "#https://www.kaggle.com/datasets\n",
    "#https://github.com/\n",
    "#Series,DataFrame\n",
    "#Series --->DataFrame\n",
    "#Series 就是一个具有索引的数组\n",
    "s = pd.Series(['a','b','c'],index=['aa','bb','cc'])\n",
    "print (s)\n",
    "print (s.index[0])"
   ]
  },
  {
   "cell_type": "code",
   "execution_count": 13,
   "metadata": {},
   "outputs": [
    {
     "data": {
      "text/plain": [
       "cc    c\n",
       "dtype: object"
      ]
     },
     "execution_count": 13,
     "metadata": {},
     "output_type": "execute_result"
    }
   ],
   "source": [
    "s[s>'b']"
   ]
  },
  {
   "cell_type": "code",
   "execution_count": 29,
   "metadata": {},
   "outputs": [
    {
     "name": "stdout",
     "output_type": "stream",
     "text": [
      "a    2200\n",
      "b    2100\n",
      "c    2000\n",
      "d    1500\n",
      "e    2300\n",
      "Name: pop, dtype: int64\n",
      "  state  year   pop\n",
      "a    北京  2017  2200\n",
      "b    北京  2016  2100\n",
      "c    北京  2015  2000\n",
      "d    上海  2017  1500\n",
      "e    大连  2017  2300\n"
     ]
    }
   ],
   "source": [
    "#Dataframe的结构 是多个索引相同的series组成的\n",
    "state = {\n",
    "    \"state\":[\"北京\",'北京','北京','上海','大连'],\n",
    "    \"year\":[2017,2016,2015,2017,2017],\n",
    "    \"pop\":[2200,2100,2000,1500,2300]\n",
    "}\n",
    "df=pd.DataFrame(state,index=['a','b','c','d','e'],columns=['state','year','pop'])\n",
    "print(df[\"pop\"])\n",
    "print(df)"
   ]
  },
  {
   "cell_type": "code",
   "execution_count": 44,
   "metadata": {},
   "outputs": [
    {
     "name": "stdout",
     "output_type": "stream",
     "text": [
      "a    北京\n",
      "b    北京\n",
      "c    北京\n",
      "d    上海\n",
      "e    大连\n",
      "Name: state, dtype: object\n",
      "a    北京\n",
      "b    北京\n",
      "c    北京\n",
      "d    上海\n",
      "e    大连\n",
      "Name: state, dtype: object\n",
      "  state  year\n",
      "a    北京  2017\n",
      "b    北京  2016\n",
      "c    北京  2015\n",
      "d    上海  2017\n",
      "e    大连  2017\n",
      "a    0\n",
      "b    1\n",
      "c    2\n",
      "d    3\n",
      "e    4\n",
      "Name: dept, dtype: int32\n"
     ]
    }
   ],
   "source": [
    "\n",
    "print (df.state)\n",
    "print (df[\"state\"])\n",
    "print (df[[\"state\",\"year\"]])\n",
    "df['dept']=np.arange(5)\n",
    "print (df.dept)"
   ]
  },
  {
   "cell_type": "code",
   "execution_count": 53,
   "metadata": {},
   "outputs": [
    {
     "name": "stdout",
     "output_type": "stream",
     "text": [
      "state      北京\n",
      "year     2017\n",
      "pop      2200\n",
      "dept        0\n",
      "Name: a, dtype: object\n",
      "  state  year   pop  dept\n",
      "a    北京  2017  2200     0\n",
      "b    北京  2016  2100     1\n",
      "c    北京  2015  2000     2\n",
      "state      北京\n",
      "year     2017\n",
      "pop      2200\n",
      "dept        0\n",
      "Name: a, dtype: object\n"
     ]
    }
   ],
   "source": [
    "#列的数据取得了，行怎么取？\n",
    "print (df.iloc[0])\n",
    "print (df.iloc[[0,1,2]])\n",
    "#df.loc[]根据数据源的索引值进行选取操作。\n",
    "#df.iloc[]根据数据源的位置进行选取操作。\n",
    "print (df.loc['a'])"
   ]
  },
  {
   "cell_type": "code",
   "execution_count": 55,
   "metadata": {},
   "outputs": [
    {
     "data": {
      "text/plain": [
       "'北京'"
      ]
     },
     "execution_count": 55,
     "metadata": {},
     "output_type": "execute_result"
    }
   ],
   "source": [
    "df['state'][0]"
   ]
  },
  {
   "cell_type": "code",
   "execution_count": 61,
   "metadata": {},
   "outputs": [
    {
     "data": {
      "text/html": [
       "<div>\n",
       "<style scoped>\n",
       "    .dataframe tbody tr th:only-of-type {\n",
       "        vertical-align: middle;\n",
       "    }\n",
       "\n",
       "    .dataframe tbody tr th {\n",
       "        vertical-align: top;\n",
       "    }\n",
       "\n",
       "    .dataframe thead th {\n",
       "        text-align: right;\n",
       "    }\n",
       "</style>\n",
       "<table border=\"1\" class=\"dataframe\">\n",
       "  <thead>\n",
       "    <tr style=\"text-align: right;\">\n",
       "      <th></th>\n",
       "      <th>state</th>\n",
       "      <th>year</th>\n",
       "      <th>pop</th>\n",
       "      <th>dept</th>\n",
       "    </tr>\n",
       "  </thead>\n",
       "  <tbody>\n",
       "    <tr>\n",
       "      <th>a</th>\n",
       "      <td>北京</td>\n",
       "      <td>2017</td>\n",
       "      <td>2200</td>\n",
       "      <td>0</td>\n",
       "    </tr>\n",
       "    <tr>\n",
       "      <th>b</th>\n",
       "      <td>北京</td>\n",
       "      <td>2016</td>\n",
       "      <td>2100</td>\n",
       "      <td>1</td>\n",
       "    </tr>\n",
       "    <tr>\n",
       "      <th>c</th>\n",
       "      <td>北京</td>\n",
       "      <td>2015</td>\n",
       "      <td>2000</td>\n",
       "      <td>2</td>\n",
       "    </tr>\n",
       "    <tr>\n",
       "      <th>d</th>\n",
       "      <td>上海</td>\n",
       "      <td>2017</td>\n",
       "      <td>1500</td>\n",
       "      <td>3</td>\n",
       "    </tr>\n",
       "    <tr>\n",
       "      <th>e</th>\n",
       "      <td>大连</td>\n",
       "      <td>2017</td>\n",
       "      <td>2300</td>\n",
       "      <td>4</td>\n",
       "    </tr>\n",
       "  </tbody>\n",
       "</table>\n",
       "</div>"
      ],
      "text/plain": [
       "  state  year   pop  dept\n",
       "a    北京  2017  2200     0\n",
       "b    北京  2016  2100     1\n",
       "c    北京  2015  2000     2\n",
       "d    上海  2017  1500     3\n",
       "e    大连  2017  2300     4"
      ]
     },
     "execution_count": 61,
     "metadata": {},
     "output_type": "execute_result"
    }
   ],
   "source": [
    "#下单最多的商品\n",
    "df.head()"
   ]
  },
  {
   "cell_type": "code",
   "execution_count": 63,
   "metadata": {},
   "outputs": [
    {
     "ename": "AttributeError",
     "evalue": "module 'pandas' has no attribute 'read'",
     "output_type": "error",
     "traceback": [
      "\u001b[1;31m---------------------------------------------------------------------------\u001b[0m",
      "\u001b[1;31mAttributeError\u001b[0m                            Traceback (most recent call last)",
      "\u001b[1;32m<ipython-input-63-968283d8ad23>\u001b[0m in \u001b[0;36m<module>\u001b[1;34m()\u001b[0m\n\u001b[0;32m      1\u001b[0m \u001b[1;32mimport\u001b[0m \u001b[0mpandas\u001b[0m \u001b[1;32mas\u001b[0m \u001b[0mpd\u001b[0m\u001b[1;33m\u001b[0m\u001b[0m\n\u001b[1;32m----> 2\u001b[1;33m \u001b[0mdata2\u001b[0m\u001b[1;33m=\u001b[0m \u001b[0mpd\u001b[0m\u001b[1;33m.\u001b[0m\u001b[0mread\u001b[0m\u001b[1;33m(\u001b[0m\u001b[1;34m\"D:\\QQ\\294103703\\FileRecv\\MobileFile\"\u001b[0m\u001b[1;33m)\u001b[0m\u001b[1;33m\u001b[0m\u001b[0m\n\u001b[0m",
      "\u001b[1;31mAttributeError\u001b[0m: module 'pandas' has no attribute 'read'"
     ]
    }
   ],
   "source": [
    "import pandas as pd\n",
    "data2= pd.read(\"D:\\\\QQ\\\\294103703\\\\FileRecv\\\\MobileFile\\\\orders.tsv\")"
   ]
  }
 ],
 "metadata": {
  "kernelspec": {
   "display_name": "Python 3",
   "language": "python",
   "name": "python3"
  },
  "language_info": {
   "codemirror_mode": {
    "name": "ipython",
    "version": 3
   },
   "file_extension": ".py",
   "mimetype": "text/x-python",
   "name": "python",
   "nbconvert_exporter": "python",
   "pygments_lexer": "ipython3",
   "version": "3.6.5"
  }
 },
 "nbformat": 4,
 "nbformat_minor": 2
}
