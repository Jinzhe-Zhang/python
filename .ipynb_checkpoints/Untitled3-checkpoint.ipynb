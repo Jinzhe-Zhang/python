{
 "cells": [
  {
   "cell_type": "code",
   "execution_count": null,
   "metadata": {},
   "outputs": [],
   "source": [
    "import cv2\n",
    "im = cv2.imread('C:\\Users\\29410\\Desktop\\skull.jpg')\n",
    "\n",
    "# 打印图像尺寸\n",
    "h,w = im.shape[:2]\n",
    "print(h,w)\n",
    "\n",
    "# 保存PNG格式图像为JPEG格式\n",
    "cv2.imwrite('./0.png',im)"
   ]
  }
 ],
 "metadata": {
  "kernelspec": {
   "display_name": "Python 3",
   "language": "python",
   "name": "python3"
  },
  "language_info": {
   "codemirror_mode": {
    "name": "ipython",
    "version": 3
   },
   "file_extension": ".py",
   "mimetype": "text/x-python",
   "name": "python",
   "nbconvert_exporter": "python",
   "pygments_lexer": "ipython3",
   "version": "3.6.5"
  }
 },
 "nbformat": 4,
 "nbformat_minor": 2
}
