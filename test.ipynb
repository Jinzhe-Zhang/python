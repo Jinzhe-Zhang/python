{
 "cells": [
  {
   "cell_type": "code",
   "execution_count": 20,
   "metadata": {},
   "outputs": [
    {
     "name": "stdout",
     "output_type": "stream",
     "text": [
      "输入一个字符，并以$终止：id\n",
      "输入一个字符，并以$终止：$\n",
      "['id', '$']\n",
      "输出E->TE’\n",
      "输出T->FT’\n",
      "输出F->id\n",
      "False\n",
      "匹配id\n",
      "输出T’->n\n",
      "输出E’->n\n",
      "True\n",
      "分析结束！\n",
      "\n"
     ]
    }
   ],
   "source": [
    "#非递归实现ll(1)文法的判断\n",
    "import copy\n",
    "import operator\n",
    "def ll1_analysis(string):\n",
    "    A=['E','E’','T','T’','F']        #非终结符集合\n",
    "    B=['id','+','*','(',')','$','n']        #终结符集合，n代表空\n",
    "    M=[{'id':['T','E’'],'(':['T','E’']},{'+':['+','T','E’'],')':['n'],'$':['n']}\n",
    "       ,{'id':['F','T’'],'(':['F','T’']},{'+':['n'],'*':['*','F','T’'],')':['n'],'$':['n']}\n",
    "       ,{'id':['id'],'(':['(','E',')']}]                #ll(1)分析表\n",
    "    stack=[]\n",
    "    stack.append('$')\n",
    "    stack.append('E')\n",
    "    top=len(stack)-1               #栈顶\n",
    "    ip=0                #字符串的当前位置\n",
    "    message=''          #要输出的执行步骤\n",
    "    while len(stack)!=0:\n",
    "        stack_item=stack[top]\n",
    "        string_item=string[ip]\n",
    "        if stack_item in A:\n",
    "            stack_item_ip=A.index(stack_item)\n",
    "            if string_item in M[stack_item_ip]:\n",
    "                content=copy.deepcopy(M[stack_item_ip][string_item])\n",
    "                stack.pop()\n",
    "                top=top-1\n",
    "                message = '输出' + stack_item + '->' + ''.join(content)\n",
    "                if content[0]=='n':\n",
    "                   pass\n",
    "                else:\n",
    "                    content.reverse()\n",
    "                    for i in range(0,len(content)):\n",
    "                        stack.append(content[i])\n",
    "                        top=top+1\n",
    "            else:\n",
    "                print('输入的串错误，不满足ll（1）文法')\n",
    "                return False\n",
    "        elif stack_item in B:\n",
    "            if stack_item==string_item:\n",
    "                print (operator.eq(stack_item[0],'$'[0]))\n",
    "                if operator.eq(stack_item[0],'$'[0]) and operator.eq(string_item[0],'$'[0]):\n",
    "                    message='匹配$,分析正确，满足ll（1）文法!'\n",
    "                    break\n",
    "                stack.pop()\n",
    "                top=top-1\n",
    "                ip=ip+1\n",
    "                message='匹配'+string_item\n",
    "            else:\n",
    "                message='匹配失败！'\n",
    "                return False\n",
    "        print(message)\n",
    "\n",
    "if __name__=='__main__':\n",
    "    string=[]\n",
    "    while True:\n",
    "        inputchar=input('输入一个字符，并以$终止：')\n",
    "        string.append(inputchar)\n",
    "        if inputchar=='$':\n",
    "            break\n",
    "    print(string)\n",
    "    while True:\n",
    "        ll1_analysis(string)\n",
    "        print('分析结束！\\n')\n",
    "        break\n"
   ]
  }
 ],
 "metadata": {
  "kernelspec": {
   "display_name": "Python 3",
   "language": "python",
   "name": "python3"
  },
  "language_info": {
   "codemirror_mode": {
    "name": "ipython",
    "version": 3
   },
   "file_extension": ".py",
   "mimetype": "text/x-python",
   "name": "python",
   "nbconvert_exporter": "python",
   "pygments_lexer": "ipython3",
   "version": "3.6.5"
  }
 },
 "nbformat": 4,
 "nbformat_minor": 2
}
